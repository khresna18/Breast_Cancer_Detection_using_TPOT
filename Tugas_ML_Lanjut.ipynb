{
  "cells": [
    {
      "attachments": {},
      "cell_type": "markdown",
      "metadata": {
        "id": "lZxULpG8tIih"
      },
      "source": [
        "#Import Dependencies"
      ]
    },
    {
      "cell_type": "code",
      "execution_count": 32,
      "metadata": {
        "id": "QzAtGes0oNIQ"
      },
      "outputs": [],
      "source": [
        "from google.colab import drive, files\n",
        "import pandas as pd\n",
        "import numpy as np\n",
        "from sklearn.model_selection import train_test_split"
      ]
    },
    {
      "attachments": {},
      "cell_type": "markdown",
      "metadata": {
        "id": "qlAWsz_ytQh-"
      },
      "source": [
        "##Instal TPOT"
      ]
    },
    {
      "cell_type": "code",
      "execution_count": 9,
      "metadata": {
        "colab": {
          "base_uri": "https://localhost:8080/"
        },
        "id": "XDkfP--WtVdH",
        "outputId": "ec1c6935-5754-4ca7-eb12-2673a2004312"
      },
      "outputs": [
        {
          "name": "stdout",
          "output_type": "stream",
          "text": [
            "Looking in indexes: https://pypi.org/simple, https://us-python.pkg.dev/colab-wheels/public/simple/\n",
            "Requirement already satisfied: tpot in /usr/local/lib/python3.10/dist-packages (0.12.0)\n",
            "Requirement already satisfied: numpy>=1.16.3 in /usr/local/lib/python3.10/dist-packages (from tpot) (1.22.4)\n",
            "Requirement already satisfied: scipy>=1.3.1 in /usr/local/lib/python3.10/dist-packages (from tpot) (1.10.1)\n",
            "Requirement already satisfied: scikit-learn>=0.22.0 in /usr/local/lib/python3.10/dist-packages (from tpot) (1.2.2)\n",
            "Requirement already satisfied: deap>=1.2 in /usr/local/lib/python3.10/dist-packages (from tpot) (1.3.3)\n",
            "Requirement already satisfied: update-checker>=0.16 in /usr/local/lib/python3.10/dist-packages (from tpot) (0.18.0)\n",
            "Requirement already satisfied: tqdm>=4.36.1 in /usr/local/lib/python3.10/dist-packages (from tpot) (4.65.0)\n",
            "Requirement already satisfied: stopit>=1.1.1 in /usr/local/lib/python3.10/dist-packages (from tpot) (1.1.2)\n",
            "Requirement already satisfied: pandas>=0.24.2 in /usr/local/lib/python3.10/dist-packages (from tpot) (1.5.3)\n",
            "Requirement already satisfied: joblib>=0.13.2 in /usr/local/lib/python3.10/dist-packages (from tpot) (1.2.0)\n",
            "Requirement already satisfied: xgboost>=1.1.0 in /usr/local/lib/python3.10/dist-packages (from tpot) (1.7.5)\n",
            "Requirement already satisfied: python-dateutil>=2.8.1 in /usr/local/lib/python3.10/dist-packages (from pandas>=0.24.2->tpot) (2.8.2)\n",
            "Requirement already satisfied: pytz>=2020.1 in /usr/local/lib/python3.10/dist-packages (from pandas>=0.24.2->tpot) (2022.7.1)\n",
            "Requirement already satisfied: threadpoolctl>=2.0.0 in /usr/local/lib/python3.10/dist-packages (from scikit-learn>=0.22.0->tpot) (3.1.0)\n",
            "Requirement already satisfied: requests>=2.3.0 in /usr/local/lib/python3.10/dist-packages (from update-checker>=0.16->tpot) (2.27.1)\n",
            "Requirement already satisfied: six>=1.5 in /usr/local/lib/python3.10/dist-packages (from python-dateutil>=2.8.1->pandas>=0.24.2->tpot) (1.16.0)\n",
            "Requirement already satisfied: urllib3<1.27,>=1.21.1 in /usr/local/lib/python3.10/dist-packages (from requests>=2.3.0->update-checker>=0.16->tpot) (1.26.15)\n",
            "Requirement already satisfied: certifi>=2017.4.17 in /usr/local/lib/python3.10/dist-packages (from requests>=2.3.0->update-checker>=0.16->tpot) (2022.12.7)\n",
            "Requirement already satisfied: charset-normalizer~=2.0.0 in /usr/local/lib/python3.10/dist-packages (from requests>=2.3.0->update-checker>=0.16->tpot) (2.0.12)\n",
            "Requirement already satisfied: idna<4,>=2.5 in /usr/local/lib/python3.10/dist-packages (from requests>=2.3.0->update-checker>=0.16->tpot) (3.4)\n"
          ]
        }
      ],
      "source": [
        "!pip install tpot\n",
        "import tpot"
      ]
    },
    {
      "attachments": {},
      "cell_type": "markdown",
      "metadata": {
        "id": "4ExCqwVXt0db"
      },
      "source": [
        "#Eksplorasi Dataset"
      ]
    },
    {
      "attachments": {},
      "cell_type": "markdown",
      "metadata": {
        "id": "_j7N83XOuWhZ"
      },
      "source": [
        "##Import Dataset"
      ]
    },
    {
      "cell_type": "code",
      "execution_count": 3,
      "metadata": {
        "colab": {
          "base_uri": "https://localhost:8080/"
        },
        "id": "aC-_KORVoed1",
        "outputId": "20da6f7d-de26-40b8-caf7-62275fb76f51"
      },
      "outputs": [
        {
          "name": "stdout",
          "output_type": "stream",
          "text": [
            "Drive already mounted at /content/drive/; to attempt to forcibly remount, call drive.mount(\"/content/drive/\", force_remount=True).\n"
          ]
        }
      ],
      "source": [
        "# Mount google drive\n",
        "drive.mount('/content/drive/')"
      ]
    },
    {
      "cell_type": "code",
      "execution_count": 4,
      "metadata": {
        "id": "MlKim058pmKL"
      },
      "outputs": [],
      "source": [
        "train_dir = ('/content/drive/MyDrive/Dataset_ML_Lanjut/train.csv')\n",
        "test_dir = ('/content/drive/MyDrive/Dataset_ML_Lanjut/test.csv')"
      ]
    },
    {
      "cell_type": "code",
      "execution_count": 101,
      "metadata": {
        "id": "dqxr_7BApobw"
      },
      "outputs": [],
      "source": [
        "train_data = pd.read_csv(train_dir)\n",
        "test_data = pd.read_csv(test_dir)"
      ]
    },
    {
      "cell_type": "code",
      "execution_count": 7,
      "metadata": {
        "colab": {
          "base_uri": "https://localhost:8080/",
          "height": 317
        },
        "id": "BuSOQYuhqoSJ",
        "outputId": "8bb998df-23ed-4a8e-bf6b-2244bf39c3e3"
      },
      "outputs": [
        {
          "data": {
            "text/html": [
              "\n",
              "  <div id=\"df-fecd3b75-08ec-4b1d-b3b6-ad8d261766bb\">\n",
              "    <div class=\"colab-df-container\">\n",
              "      <div>\n",
              "<style scoped>\n",
              "    .dataframe tbody tr th:only-of-type {\n",
              "        vertical-align: middle;\n",
              "    }\n",
              "\n",
              "    .dataframe tbody tr th {\n",
              "        vertical-align: top;\n",
              "    }\n",
              "\n",
              "    .dataframe thead th {\n",
              "        text-align: right;\n",
              "    }\n",
              "</style>\n",
              "<table border=\"1\" class=\"dataframe\">\n",
              "  <thead>\n",
              "    <tr style=\"text-align: right;\">\n",
              "      <th></th>\n",
              "      <th>id</th>\n",
              "      <th>diagnosis</th>\n",
              "      <th>radius_mean</th>\n",
              "      <th>texture_mean</th>\n",
              "      <th>perimeter_mean</th>\n",
              "      <th>area_mean</th>\n",
              "      <th>smoothness_mean</th>\n",
              "      <th>compactness_mean</th>\n",
              "      <th>concavity_mean</th>\n",
              "      <th>concave points_mean</th>\n",
              "      <th>...</th>\n",
              "      <th>radius_worst</th>\n",
              "      <th>texture_worst</th>\n",
              "      <th>perimeter_worst</th>\n",
              "      <th>area_worst</th>\n",
              "      <th>smoothness_worst</th>\n",
              "      <th>compactness_worst</th>\n",
              "      <th>concavity_worst</th>\n",
              "      <th>concave points_worst</th>\n",
              "      <th>symmetry_worst</th>\n",
              "      <th>fractal_dimension_worst</th>\n",
              "    </tr>\n",
              "  </thead>\n",
              "  <tbody>\n",
              "    <tr>\n",
              "      <th>0</th>\n",
              "      <td>842302</td>\n",
              "      <td>M</td>\n",
              "      <td>17.99</td>\n",
              "      <td>10.38</td>\n",
              "      <td>122.80</td>\n",
              "      <td>1001.0</td>\n",
              "      <td>0.11840</td>\n",
              "      <td>0.27760</td>\n",
              "      <td>0.3001</td>\n",
              "      <td>0.1471</td>\n",
              "      <td>...</td>\n",
              "      <td>25.38</td>\n",
              "      <td>17.33</td>\n",
              "      <td>184.60</td>\n",
              "      <td>2019.0</td>\n",
              "      <td>0.1622</td>\n",
              "      <td>0.6656</td>\n",
              "      <td>0.7119</td>\n",
              "      <td>0.2654</td>\n",
              "      <td>0.4601</td>\n",
              "      <td>0.11890</td>\n",
              "    </tr>\n",
              "    <tr>\n",
              "      <th>1</th>\n",
              "      <td>842517</td>\n",
              "      <td>M</td>\n",
              "      <td>20.57</td>\n",
              "      <td>17.77</td>\n",
              "      <td>132.90</td>\n",
              "      <td>1326.0</td>\n",
              "      <td>0.08474</td>\n",
              "      <td>0.07864</td>\n",
              "      <td>0.0869</td>\n",
              "      <td>0.07017</td>\n",
              "      <td>...</td>\n",
              "      <td>24.99</td>\n",
              "      <td>23.41</td>\n",
              "      <td>158.80</td>\n",
              "      <td>1956.0</td>\n",
              "      <td>0.1238</td>\n",
              "      <td>0.1866</td>\n",
              "      <td>0.2416</td>\n",
              "      <td>0.186</td>\n",
              "      <td>0.2750</td>\n",
              "      <td>0.08902</td>\n",
              "    </tr>\n",
              "    <tr>\n",
              "      <th>2</th>\n",
              "      <td>84300903</td>\n",
              "      <td>M</td>\n",
              "      <td>19.69</td>\n",
              "      <td>21.25</td>\n",
              "      <td>130.00</td>\n",
              "      <td>1203.0</td>\n",
              "      <td>0.10960</td>\n",
              "      <td>0.15990</td>\n",
              "      <td>0.1974</td>\n",
              "      <td>0.1279</td>\n",
              "      <td>...</td>\n",
              "      <td>23.57</td>\n",
              "      <td>25.53</td>\n",
              "      <td>152.50</td>\n",
              "      <td>1709.0</td>\n",
              "      <td>0.1444</td>\n",
              "      <td>0.4245</td>\n",
              "      <td>0.4504</td>\n",
              "      <td>0.243</td>\n",
              "      <td>0.3613</td>\n",
              "      <td>0.08758</td>\n",
              "    </tr>\n",
              "    <tr>\n",
              "      <th>3</th>\n",
              "      <td>84348301</td>\n",
              "      <td>M</td>\n",
              "      <td>11.42</td>\n",
              "      <td>20.38</td>\n",
              "      <td>77.58</td>\n",
              "      <td>386.1</td>\n",
              "      <td>0.14250</td>\n",
              "      <td>0.28390</td>\n",
              "      <td>0.2414</td>\n",
              "      <td>0.1052</td>\n",
              "      <td>...</td>\n",
              "      <td>14.91</td>\n",
              "      <td>26.50</td>\n",
              "      <td>98.87</td>\n",
              "      <td>567.7</td>\n",
              "      <td>0.2098</td>\n",
              "      <td>0.8663</td>\n",
              "      <td>0.6869</td>\n",
              "      <td>0.2575</td>\n",
              "      <td>0.6638</td>\n",
              "      <td>0.17300</td>\n",
              "    </tr>\n",
              "    <tr>\n",
              "      <th>4</th>\n",
              "      <td>84358402</td>\n",
              "      <td>M</td>\n",
              "      <td>20.29</td>\n",
              "      <td>14.34</td>\n",
              "      <td>135.10</td>\n",
              "      <td>1297.0</td>\n",
              "      <td>0.10030</td>\n",
              "      <td>0.13280</td>\n",
              "      <td>0.198</td>\n",
              "      <td>0.1043</td>\n",
              "      <td>...</td>\n",
              "      <td>22.54</td>\n",
              "      <td>16.67</td>\n",
              "      <td>152.20</td>\n",
              "      <td>1575.0</td>\n",
              "      <td>0.1374</td>\n",
              "      <td>0.2050</td>\n",
              "      <td>0.4</td>\n",
              "      <td>0.1625</td>\n",
              "      <td>0.2364</td>\n",
              "      <td>0.07678</td>\n",
              "    </tr>\n",
              "  </tbody>\n",
              "</table>\n",
              "<p>5 rows × 32 columns</p>\n",
              "</div>\n",
              "      <button class=\"colab-df-convert\" onclick=\"convertToInteractive('df-fecd3b75-08ec-4b1d-b3b6-ad8d261766bb')\"\n",
              "              title=\"Convert this dataframe to an interactive table.\"\n",
              "              style=\"display:none;\">\n",
              "        \n",
              "  <svg xmlns=\"http://www.w3.org/2000/svg\" height=\"24px\"viewBox=\"0 0 24 24\"\n",
              "       width=\"24px\">\n",
              "    <path d=\"M0 0h24v24H0V0z\" fill=\"none\"/>\n",
              "    <path d=\"M18.56 5.44l.94 2.06.94-2.06 2.06-.94-2.06-.94-.94-2.06-.94 2.06-2.06.94zm-11 1L8.5 8.5l.94-2.06 2.06-.94-2.06-.94L8.5 2.5l-.94 2.06-2.06.94zm10 10l.94 2.06.94-2.06 2.06-.94-2.06-.94-.94-2.06-.94 2.06-2.06.94z\"/><path d=\"M17.41 7.96l-1.37-1.37c-.4-.4-.92-.59-1.43-.59-.52 0-1.04.2-1.43.59L10.3 9.45l-7.72 7.72c-.78.78-.78 2.05 0 2.83L4 21.41c.39.39.9.59 1.41.59.51 0 1.02-.2 1.41-.59l7.78-7.78 2.81-2.81c.8-.78.8-2.07 0-2.86zM5.41 20L4 18.59l7.72-7.72 1.47 1.35L5.41 20z\"/>\n",
              "  </svg>\n",
              "      </button>\n",
              "      \n",
              "  <style>\n",
              "    .colab-df-container {\n",
              "      display:flex;\n",
              "      flex-wrap:wrap;\n",
              "      gap: 12px;\n",
              "    }\n",
              "\n",
              "    .colab-df-convert {\n",
              "      background-color: #E8F0FE;\n",
              "      border: none;\n",
              "      border-radius: 50%;\n",
              "      cursor: pointer;\n",
              "      display: none;\n",
              "      fill: #1967D2;\n",
              "      height: 32px;\n",
              "      padding: 0 0 0 0;\n",
              "      width: 32px;\n",
              "    }\n",
              "\n",
              "    .colab-df-convert:hover {\n",
              "      background-color: #E2EBFA;\n",
              "      box-shadow: 0px 1px 2px rgba(60, 64, 67, 0.3), 0px 1px 3px 1px rgba(60, 64, 67, 0.15);\n",
              "      fill: #174EA6;\n",
              "    }\n",
              "\n",
              "    [theme=dark] .colab-df-convert {\n",
              "      background-color: #3B4455;\n",
              "      fill: #D2E3FC;\n",
              "    }\n",
              "\n",
              "    [theme=dark] .colab-df-convert:hover {\n",
              "      background-color: #434B5C;\n",
              "      box-shadow: 0px 1px 3px 1px rgba(0, 0, 0, 0.15);\n",
              "      filter: drop-shadow(0px 1px 2px rgba(0, 0, 0, 0.3));\n",
              "      fill: #FFFFFF;\n",
              "    }\n",
              "  </style>\n",
              "\n",
              "      <script>\n",
              "        const buttonEl =\n",
              "          document.querySelector('#df-fecd3b75-08ec-4b1d-b3b6-ad8d261766bb button.colab-df-convert');\n",
              "        buttonEl.style.display =\n",
              "          google.colab.kernel.accessAllowed ? 'block' : 'none';\n",
              "\n",
              "        async function convertToInteractive(key) {\n",
              "          const element = document.querySelector('#df-fecd3b75-08ec-4b1d-b3b6-ad8d261766bb');\n",
              "          const dataTable =\n",
              "            await google.colab.kernel.invokeFunction('convertToInteractive',\n",
              "                                                     [key], {});\n",
              "          if (!dataTable) return;\n",
              "\n",
              "          const docLinkHtml = 'Like what you see? Visit the ' +\n",
              "            '<a target=\"_blank\" href=https://colab.research.google.com/notebooks/data_table.ipynb>data table notebook</a>'\n",
              "            + ' to learn more about interactive tables.';\n",
              "          element.innerHTML = '';\n",
              "          dataTable['output_type'] = 'display_data';\n",
              "          await google.colab.output.renderOutput(dataTable, element);\n",
              "          const docLink = document.createElement('div');\n",
              "          docLink.innerHTML = docLinkHtml;\n",
              "          element.appendChild(docLink);\n",
              "        }\n",
              "      </script>\n",
              "    </div>\n",
              "  </div>\n",
              "  "
            ],
            "text/plain": [
              "         id diagnosis  radius_mean  texture_mean  perimeter_mean  area_mean  \\\n",
              "0    842302         M        17.99         10.38          122.80     1001.0   \n",
              "1    842517         M        20.57         17.77          132.90     1326.0   \n",
              "2  84300903         M        19.69         21.25          130.00     1203.0   \n",
              "3  84348301         M        11.42         20.38           77.58      386.1   \n",
              "4  84358402         M        20.29         14.34          135.10     1297.0   \n",
              "\n",
              "   smoothness_mean  compactness_mean concavity_mean concave points_mean  ...  \\\n",
              "0          0.11840           0.27760         0.3001              0.1471  ...   \n",
              "1          0.08474           0.07864         0.0869             0.07017  ...   \n",
              "2          0.10960           0.15990         0.1974              0.1279  ...   \n",
              "3          0.14250           0.28390         0.2414              0.1052  ...   \n",
              "4          0.10030           0.13280          0.198              0.1043  ...   \n",
              "\n",
              "   radius_worst  texture_worst  perimeter_worst  area_worst  smoothness_worst  \\\n",
              "0         25.38          17.33           184.60      2019.0            0.1622   \n",
              "1         24.99          23.41           158.80      1956.0            0.1238   \n",
              "2         23.57          25.53           152.50      1709.0            0.1444   \n",
              "3         14.91          26.50            98.87       567.7            0.2098   \n",
              "4         22.54          16.67           152.20      1575.0            0.1374   \n",
              "\n",
              "   compactness_worst  concavity_worst  concave points_worst symmetry_worst  \\\n",
              "0             0.6656           0.7119                0.2654         0.4601   \n",
              "1             0.1866           0.2416                 0.186         0.2750   \n",
              "2             0.4245           0.4504                 0.243         0.3613   \n",
              "3             0.8663           0.6869                0.2575         0.6638   \n",
              "4             0.2050              0.4                0.1625         0.2364   \n",
              "\n",
              "  fractal_dimension_worst  \n",
              "0                 0.11890  \n",
              "1                 0.08902  \n",
              "2                 0.08758  \n",
              "3                 0.17300  \n",
              "4                 0.07678  \n",
              "\n",
              "[5 rows x 32 columns]"
            ]
          },
          "execution_count": 7,
          "metadata": {},
          "output_type": "execute_result"
        }
      ],
      "source": [
        "train_data.head()"
      ]
    },
    {
      "cell_type": "code",
      "execution_count": 11,
      "metadata": {
        "colab": {
          "base_uri": "https://localhost:8080/",
          "height": 317
        },
        "id": "C9xr7DQ2t-fV",
        "outputId": "e39b7a4b-3704-482e-d175-5beac1e16b76"
      },
      "outputs": [
        {
          "data": {
            "text/html": [
              "\n",
              "  <div id=\"df-8dfc39aa-d065-4c68-8f51-06adb345a359\">\n",
              "    <div class=\"colab-df-container\">\n",
              "      <div>\n",
              "<style scoped>\n",
              "    .dataframe tbody tr th:only-of-type {\n",
              "        vertical-align: middle;\n",
              "    }\n",
              "\n",
              "    .dataframe tbody tr th {\n",
              "        vertical-align: top;\n",
              "    }\n",
              "\n",
              "    .dataframe thead th {\n",
              "        text-align: right;\n",
              "    }\n",
              "</style>\n",
              "<table border=\"1\" class=\"dataframe\">\n",
              "  <thead>\n",
              "    <tr style=\"text-align: right;\">\n",
              "      <th></th>\n",
              "      <th>id</th>\n",
              "      <th>radius_mean</th>\n",
              "      <th>texture_mean</th>\n",
              "      <th>perimeter_mean</th>\n",
              "      <th>area_mean</th>\n",
              "      <th>smoothness_mean</th>\n",
              "      <th>compactness_mean</th>\n",
              "      <th>concavity_mean</th>\n",
              "      <th>concave points_mean</th>\n",
              "      <th>symmetry_mean</th>\n",
              "      <th>...</th>\n",
              "      <th>radius_worst</th>\n",
              "      <th>texture_worst</th>\n",
              "      <th>perimeter_worst</th>\n",
              "      <th>area_worst</th>\n",
              "      <th>smoothness_worst</th>\n",
              "      <th>compactness_worst</th>\n",
              "      <th>concavity_worst</th>\n",
              "      <th>concave points_worst</th>\n",
              "      <th>symmetry_worst</th>\n",
              "      <th>fractal_dimension_worst</th>\n",
              "    </tr>\n",
              "  </thead>\n",
              "  <tbody>\n",
              "    <tr>\n",
              "      <th>0</th>\n",
              "      <td>911320501</td>\n",
              "      <td>11.600</td>\n",
              "      <td>18.36</td>\n",
              "      <td>73.88</td>\n",
              "      <td>412.7</td>\n",
              "      <td>0.08508</td>\n",
              "      <td>0.05855</td>\n",
              "      <td>0.03367</td>\n",
              "      <td>0.017770</td>\n",
              "      <td>0.1516</td>\n",
              "      <td>...</td>\n",
              "      <td>12.77</td>\n",
              "      <td>24.02</td>\n",
              "      <td>82.68</td>\n",
              "      <td>495.1</td>\n",
              "      <td>0.1342</td>\n",
              "      <td>0.1808</td>\n",
              "      <td>0.18600</td>\n",
              "      <td>0.08288</td>\n",
              "      <td>0.3210</td>\n",
              "      <td>0.07863</td>\n",
              "    </tr>\n",
              "    <tr>\n",
              "      <th>1</th>\n",
              "      <td>911320502</td>\n",
              "      <td>13.170</td>\n",
              "      <td>18.22</td>\n",
              "      <td>84.28</td>\n",
              "      <td>537.3</td>\n",
              "      <td>0.07466</td>\n",
              "      <td>0.05994</td>\n",
              "      <td>0.04859</td>\n",
              "      <td>0.028700</td>\n",
              "      <td>0.1454</td>\n",
              "      <td>...</td>\n",
              "      <td>14.90</td>\n",
              "      <td>23.89</td>\n",
              "      <td>95.10</td>\n",
              "      <td>687.6</td>\n",
              "      <td>0.1282</td>\n",
              "      <td>0.1965</td>\n",
              "      <td>0.18760</td>\n",
              "      <td>0.10450</td>\n",
              "      <td>0.2235</td>\n",
              "      <td>0.06925</td>\n",
              "    </tr>\n",
              "    <tr>\n",
              "      <th>2</th>\n",
              "      <td>9113239</td>\n",
              "      <td>13.240</td>\n",
              "      <td>20.13</td>\n",
              "      <td>86.87</td>\n",
              "      <td>542.9</td>\n",
              "      <td>0.08284</td>\n",
              "      <td>0.12230</td>\n",
              "      <td>0.10100</td>\n",
              "      <td>0.028330</td>\n",
              "      <td>0.1601</td>\n",
              "      <td>...</td>\n",
              "      <td>15.44</td>\n",
              "      <td>25.50</td>\n",
              "      <td>115.00</td>\n",
              "      <td>733.5</td>\n",
              "      <td>0.1201</td>\n",
              "      <td>0.5646</td>\n",
              "      <td>0.65560</td>\n",
              "      <td>0.13570</td>\n",
              "      <td>0.2845</td>\n",
              "      <td>0.12490</td>\n",
              "    </tr>\n",
              "    <tr>\n",
              "      <th>3</th>\n",
              "      <td>9113455</td>\n",
              "      <td>13.140</td>\n",
              "      <td>20.74</td>\n",
              "      <td>85.98</td>\n",
              "      <td>536.9</td>\n",
              "      <td>0.08675</td>\n",
              "      <td>0.10890</td>\n",
              "      <td>0.10850</td>\n",
              "      <td>0.035100</td>\n",
              "      <td>0.1562</td>\n",
              "      <td>...</td>\n",
              "      <td>14.80</td>\n",
              "      <td>25.46</td>\n",
              "      <td>100.90</td>\n",
              "      <td>689.1</td>\n",
              "      <td>0.1351</td>\n",
              "      <td>0.3549</td>\n",
              "      <td>0.45040</td>\n",
              "      <td>0.11810</td>\n",
              "      <td>0.2563</td>\n",
              "      <td>0.08174</td>\n",
              "    </tr>\n",
              "    <tr>\n",
              "      <th>4</th>\n",
              "      <td>9113514</td>\n",
              "      <td>9.668</td>\n",
              "      <td>18.10</td>\n",
              "      <td>61.06</td>\n",
              "      <td>286.3</td>\n",
              "      <td>0.08311</td>\n",
              "      <td>0.05428</td>\n",
              "      <td>0.01479</td>\n",
              "      <td>0.005769</td>\n",
              "      <td>0.1680</td>\n",
              "      <td>...</td>\n",
              "      <td>11.15</td>\n",
              "      <td>24.62</td>\n",
              "      <td>71.11</td>\n",
              "      <td>380.2</td>\n",
              "      <td>0.1388</td>\n",
              "      <td>0.1255</td>\n",
              "      <td>0.06409</td>\n",
              "      <td>0.02500</td>\n",
              "      <td>0.3057</td>\n",
              "      <td>0.07875</td>\n",
              "    </tr>\n",
              "  </tbody>\n",
              "</table>\n",
              "<p>5 rows × 31 columns</p>\n",
              "</div>\n",
              "      <button class=\"colab-df-convert\" onclick=\"convertToInteractive('df-8dfc39aa-d065-4c68-8f51-06adb345a359')\"\n",
              "              title=\"Convert this dataframe to an interactive table.\"\n",
              "              style=\"display:none;\">\n",
              "        \n",
              "  <svg xmlns=\"http://www.w3.org/2000/svg\" height=\"24px\"viewBox=\"0 0 24 24\"\n",
              "       width=\"24px\">\n",
              "    <path d=\"M0 0h24v24H0V0z\" fill=\"none\"/>\n",
              "    <path d=\"M18.56 5.44l.94 2.06.94-2.06 2.06-.94-2.06-.94-.94-2.06-.94 2.06-2.06.94zm-11 1L8.5 8.5l.94-2.06 2.06-.94-2.06-.94L8.5 2.5l-.94 2.06-2.06.94zm10 10l.94 2.06.94-2.06 2.06-.94-2.06-.94-.94-2.06-.94 2.06-2.06.94z\"/><path d=\"M17.41 7.96l-1.37-1.37c-.4-.4-.92-.59-1.43-.59-.52 0-1.04.2-1.43.59L10.3 9.45l-7.72 7.72c-.78.78-.78 2.05 0 2.83L4 21.41c.39.39.9.59 1.41.59.51 0 1.02-.2 1.41-.59l7.78-7.78 2.81-2.81c.8-.78.8-2.07 0-2.86zM5.41 20L4 18.59l7.72-7.72 1.47 1.35L5.41 20z\"/>\n",
              "  </svg>\n",
              "      </button>\n",
              "      \n",
              "  <style>\n",
              "    .colab-df-container {\n",
              "      display:flex;\n",
              "      flex-wrap:wrap;\n",
              "      gap: 12px;\n",
              "    }\n",
              "\n",
              "    .colab-df-convert {\n",
              "      background-color: #E8F0FE;\n",
              "      border: none;\n",
              "      border-radius: 50%;\n",
              "      cursor: pointer;\n",
              "      display: none;\n",
              "      fill: #1967D2;\n",
              "      height: 32px;\n",
              "      padding: 0 0 0 0;\n",
              "      width: 32px;\n",
              "    }\n",
              "\n",
              "    .colab-df-convert:hover {\n",
              "      background-color: #E2EBFA;\n",
              "      box-shadow: 0px 1px 2px rgba(60, 64, 67, 0.3), 0px 1px 3px 1px rgba(60, 64, 67, 0.15);\n",
              "      fill: #174EA6;\n",
              "    }\n",
              "\n",
              "    [theme=dark] .colab-df-convert {\n",
              "      background-color: #3B4455;\n",
              "      fill: #D2E3FC;\n",
              "    }\n",
              "\n",
              "    [theme=dark] .colab-df-convert:hover {\n",
              "      background-color: #434B5C;\n",
              "      box-shadow: 0px 1px 3px 1px rgba(0, 0, 0, 0.15);\n",
              "      filter: drop-shadow(0px 1px 2px rgba(0, 0, 0, 0.3));\n",
              "      fill: #FFFFFF;\n",
              "    }\n",
              "  </style>\n",
              "\n",
              "      <script>\n",
              "        const buttonEl =\n",
              "          document.querySelector('#df-8dfc39aa-d065-4c68-8f51-06adb345a359 button.colab-df-convert');\n",
              "        buttonEl.style.display =\n",
              "          google.colab.kernel.accessAllowed ? 'block' : 'none';\n",
              "\n",
              "        async function convertToInteractive(key) {\n",
              "          const element = document.querySelector('#df-8dfc39aa-d065-4c68-8f51-06adb345a359');\n",
              "          const dataTable =\n",
              "            await google.colab.kernel.invokeFunction('convertToInteractive',\n",
              "                                                     [key], {});\n",
              "          if (!dataTable) return;\n",
              "\n",
              "          const docLinkHtml = 'Like what you see? Visit the ' +\n",
              "            '<a target=\"_blank\" href=https://colab.research.google.com/notebooks/data_table.ipynb>data table notebook</a>'\n",
              "            + ' to learn more about interactive tables.';\n",
              "          element.innerHTML = '';\n",
              "          dataTable['output_type'] = 'display_data';\n",
              "          await google.colab.output.renderOutput(dataTable, element);\n",
              "          const docLink = document.createElement('div');\n",
              "          docLink.innerHTML = docLinkHtml;\n",
              "          element.appendChild(docLink);\n",
              "        }\n",
              "      </script>\n",
              "    </div>\n",
              "  </div>\n",
              "  "
            ],
            "text/plain": [
              "          id  radius_mean  texture_mean  perimeter_mean  area_mean  \\\n",
              "0  911320501       11.600         18.36           73.88      412.7   \n",
              "1  911320502       13.170         18.22           84.28      537.3   \n",
              "2    9113239       13.240         20.13           86.87      542.9   \n",
              "3    9113455       13.140         20.74           85.98      536.9   \n",
              "4    9113514        9.668         18.10           61.06      286.3   \n",
              "\n",
              "   smoothness_mean  compactness_mean  concavity_mean  concave points_mean  \\\n",
              "0          0.08508           0.05855         0.03367             0.017770   \n",
              "1          0.07466           0.05994         0.04859             0.028700   \n",
              "2          0.08284           0.12230         0.10100             0.028330   \n",
              "3          0.08675           0.10890         0.10850             0.035100   \n",
              "4          0.08311           0.05428         0.01479             0.005769   \n",
              "\n",
              "   symmetry_mean  ...  radius_worst  texture_worst  perimeter_worst  \\\n",
              "0         0.1516  ...         12.77          24.02            82.68   \n",
              "1         0.1454  ...         14.90          23.89            95.10   \n",
              "2         0.1601  ...         15.44          25.50           115.00   \n",
              "3         0.1562  ...         14.80          25.46           100.90   \n",
              "4         0.1680  ...         11.15          24.62            71.11   \n",
              "\n",
              "   area_worst  smoothness_worst  compactness_worst  concavity_worst  \\\n",
              "0       495.1            0.1342             0.1808          0.18600   \n",
              "1       687.6            0.1282             0.1965          0.18760   \n",
              "2       733.5            0.1201             0.5646          0.65560   \n",
              "3       689.1            0.1351             0.3549          0.45040   \n",
              "4       380.2            0.1388             0.1255          0.06409   \n",
              "\n",
              "   concave points_worst  symmetry_worst  fractal_dimension_worst  \n",
              "0               0.08288          0.3210                  0.07863  \n",
              "1               0.10450          0.2235                  0.06925  \n",
              "2               0.13570          0.2845                  0.12490  \n",
              "3               0.11810          0.2563                  0.08174  \n",
              "4               0.02500          0.3057                  0.07875  \n",
              "\n",
              "[5 rows x 31 columns]"
            ]
          },
          "execution_count": 11,
          "metadata": {},
          "output_type": "execute_result"
        }
      ],
      "source": [
        "test_data.head()"
      ]
    },
    {
      "attachments": {},
      "cell_type": "markdown",
      "metadata": {
        "id": "-vxVpar-ucvI"
      },
      "source": [
        "##Pre-processing"
      ]
    },
    {
      "attachments": {},
      "cell_type": "markdown",
      "metadata": {
        "id": "0hfo8fhPyB-X"
      },
      "source": [
        "###Missing value removal"
      ]
    },
    {
      "attachments": {},
      "cell_type": "markdown",
      "metadata": {
        "id": "wlczhVdVvHyY"
      },
      "source": [
        "Missing value pada train.csv :\n",
        "![Screenshot 2023-05-28 120402.png](data:image/png;base64,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)"
      ]
    },
    {
      "attachments": {},
      "cell_type": "markdown",
      "metadata": {
        "id": "-ohgavcrvryb"
      },
      "source": [
        "Missing value pada test.csv :  ![Screenshot 2023-05-28 120516.png](data:image/png;base64,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)"
      ]
    },
    {
      "cell_type": "code",
      "execution_count": 102,
      "metadata": {
        "id": "rk7_dL-QuiZj"
      },
      "outputs": [],
      "source": [
        "#Definisikan missing value\n",
        "train_data = pd.read_csv(train_dir, na_values='?')\n",
        "test_data = pd.read_csv(test_dir, na_values='0')"
      ]
    },
    {
      "cell_type": "code",
      "execution_count": 103,
      "metadata": {
        "colab": {
          "base_uri": "https://localhost:8080/"
        },
        "id": "Av_DmPMXwhHO",
        "outputId": "969befe0-151d-4f1c-edac-7a19bf071f44"
      },
      "outputs": [
        {
          "name": "stdout",
          "output_type": "stream",
          "text": [
            "Jumlah missing value di train.csv: \n",
            " id                         0\n",
            "diagnosis                  0\n",
            "radius_mean                0\n",
            "texture_mean               0\n",
            "perimeter_mean             0\n",
            "area_mean                  0\n",
            "smoothness_mean            0\n",
            "compactness_mean           0\n",
            "concavity_mean             7\n",
            "concave points_mean        7\n",
            "symmetry_mean              0\n",
            "fractal_dimension_mean     0\n",
            "radius_se                  0\n",
            "texture_se                 0\n",
            "perimeter_se               0\n",
            "area_se                    0\n",
            "smoothness_se              0\n",
            "compactness_se             0\n",
            "concavity_se               7\n",
            "concave points_se          7\n",
            "symmetry_se                0\n",
            "fractal_dimension_se       0\n",
            "radius_worst               0\n",
            "texture_worst              0\n",
            "perimeter_worst            0\n",
            "area_worst                 0\n",
            "smoothness_worst           0\n",
            "compactness_worst          0\n",
            "concavity_worst            7\n",
            "concave points_worst       7\n",
            "symmetry_worst             0\n",
            "fractal_dimension_worst    0\n",
            "dtype: int64\n",
            "Jumlah missing value di test.csv: \n",
            " id                         0\n",
            "radius_mean                0\n",
            "texture_mean               0\n",
            "perimeter_mean             0\n",
            "area_mean                  0\n",
            "smoothness_mean            0\n",
            "compactness_mean           0\n",
            "concavity_mean             6\n",
            "concave points_mean        6\n",
            "symmetry_mean              0\n",
            "fractal_dimension_mean     0\n",
            "radius_se                  0\n",
            "texture_se                 0\n",
            "perimeter_se               0\n",
            "area_se                    0\n",
            "smoothness_se              0\n",
            "compactness_se             0\n",
            "concavity_se               6\n",
            "concave points_se          6\n",
            "symmetry_se                0\n",
            "fractal_dimension_se       0\n",
            "radius_worst               0\n",
            "texture_worst              0\n",
            "perimeter_worst            0\n",
            "area_worst                 0\n",
            "smoothness_worst           0\n",
            "compactness_worst          0\n",
            "concavity_worst            6\n",
            "concave points_worst       6\n",
            "symmetry_worst             0\n",
            "fractal_dimension_worst    0\n",
            "dtype: int64\n"
          ]
        }
      ],
      "source": [
        "#Jumlah missing value\n",
        "missing_values_count_train = train_data.isnull().sum()\n",
        "missing_values_count_test = test_data.isnull().sum()\n",
        "print(\"Jumlah missing value di train.csv: \\n\", missing_values_count_train)\n",
        "print(\"Jumlah missing value di test.csv: \\n\", missing_values_count_test)"
      ]
    },
    {
      "cell_type": "code",
      "execution_count": 104,
      "metadata": {
        "colab": {
          "base_uri": "https://localhost:8080/"
        },
        "id": "rAqO74CgxNO2",
        "outputId": "b53de96d-e207-4838-8ecd-1484b0b12d88"
      },
      "outputs": [
        {
          "name": "stderr",
          "output_type": "stream",
          "text": [
            "<ipython-input-104-fe1d00ea5c2a>:2: FutureWarning: The default value of numeric_only in DataFrame.mean is deprecated. In a future version, it will default to False. In addition, specifying 'numeric_only=None' is deprecated. Select only valid columns or specify the value of numeric_only to silence this warning.\n",
            "  train_data = train_data.fillna(train_data.mean())\n"
          ]
        }
      ],
      "source": [
        "#Ganti missing value dengan nilai mean\n",
        "train_data = train_data.fillna(train_data.mean())\n",
        "test_data = test_data.fillna(test_data.mean())"
      ]
    },
    {
      "cell_type": "code",
      "execution_count": 105,
      "metadata": {
        "colab": {
          "base_uri": "https://localhost:8080/"
        },
        "id": "yfaw-R9fxqc3",
        "outputId": "89bec3c9-0525-44ba-cebd-5eaaaeb6f1da"
      },
      "outputs": [
        {
          "name": "stdout",
          "output_type": "stream",
          "text": [
            "Jumlah missing value di train.csv: \n",
            " id                         0\n",
            "diagnosis                  0\n",
            "radius_mean                0\n",
            "texture_mean               0\n",
            "perimeter_mean             0\n",
            "area_mean                  0\n",
            "smoothness_mean            0\n",
            "compactness_mean           0\n",
            "concavity_mean             0\n",
            "concave points_mean        0\n",
            "symmetry_mean              0\n",
            "fractal_dimension_mean     0\n",
            "radius_se                  0\n",
            "texture_se                 0\n",
            "perimeter_se               0\n",
            "area_se                    0\n",
            "smoothness_se              0\n",
            "compactness_se             0\n",
            "concavity_se               0\n",
            "concave points_se          0\n",
            "symmetry_se                0\n",
            "fractal_dimension_se       0\n",
            "radius_worst               0\n",
            "texture_worst              0\n",
            "perimeter_worst            0\n",
            "area_worst                 0\n",
            "smoothness_worst           0\n",
            "compactness_worst          0\n",
            "concavity_worst            0\n",
            "concave points_worst       0\n",
            "symmetry_worst             0\n",
            "fractal_dimension_worst    0\n",
            "dtype: int64\n",
            "Jumlah missing value di test.csv: \n",
            " id                         0\n",
            "radius_mean                0\n",
            "texture_mean               0\n",
            "perimeter_mean             0\n",
            "area_mean                  0\n",
            "smoothness_mean            0\n",
            "compactness_mean           0\n",
            "concavity_mean             0\n",
            "concave points_mean        0\n",
            "symmetry_mean              0\n",
            "fractal_dimension_mean     0\n",
            "radius_se                  0\n",
            "texture_se                 0\n",
            "perimeter_se               0\n",
            "area_se                    0\n",
            "smoothness_se              0\n",
            "compactness_se             0\n",
            "concavity_se               0\n",
            "concave points_se          0\n",
            "symmetry_se                0\n",
            "fractal_dimension_se       0\n",
            "radius_worst               0\n",
            "texture_worst              0\n",
            "perimeter_worst            0\n",
            "area_worst                 0\n",
            "smoothness_worst           0\n",
            "compactness_worst          0\n",
            "concavity_worst            0\n",
            "concave points_worst       0\n",
            "symmetry_worst             0\n",
            "fractal_dimension_worst    0\n",
            "dtype: int64\n"
          ]
        }
      ],
      "source": [
        "#Jumlah mising value setelah diganti dengan mean\n",
        "missing_values_count_train = train_data.isnull().sum()\n",
        "missing_values_count_test = test_data.isnull().sum()\n",
        "print(\"Jumlah missing value di train.csv: \\n\", missing_values_count_train)\n",
        "print(\"Jumlah missing value di test.csv: \\n\", missing_values_count_test)"
      ]
    },
    {
      "cell_type": "code",
      "execution_count": 119,
      "metadata": {
        "id": "6oLiwj4mTpOS"
      },
      "outputs": [],
      "source": [
        "#Hasil preprocessing\n",
        "train_data.to_csv('train_data_preprocessed.csv', index=False)\n",
        "test_data.to_csv('test_data_preprocessed.csv', index=False)"
      ]
    },
    {
      "attachments": {},
      "cell_type": "markdown",
      "metadata": {
        "id": "Ov2e2NOGyKy-"
      },
      "source": [
        "##Split feature dan label"
      ]
    },
    {
      "attachments": {},
      "cell_type": "markdown",
      "metadata": {
        "id": "gVhLokaByYyJ"
      },
      "source": [
        "Percobaan yang dilakukan adalah mendiagnosis apakah suatu tumor pada indikasi kanker payudara merupakan tumor yang berbahaya atau bukan."
      ]
    },
    {
      "attachments": {},
      "cell_type": "markdown",
      "metadata": {
        "id": "Elai_E7TyllI"
      },
      "source": [
        "'Malignant' yaitu jenis tumor yang berbahaya direpresentasikan sebagai 'M' pada kolom 'diagnosis' pada dataset"
      ]
    },
    {
      "attachments": {},
      "cell_type": "markdown",
      "metadata": {
        "id": "YKChMgpmzAZj"
      },
      "source": [
        "'Benign' yaitu jenis tumor yang tidak berbahaya direpresentasikan sebagai 'B' pada kolom 'diagnosis' pada dataset"
      ]
    },
    {
      "cell_type": "code",
      "execution_count": 68,
      "metadata": {
        "colab": {
          "base_uri": "https://localhost:8080/"
        },
        "id": "G0sHOH_d0n8s",
        "outputId": "096ead5c-aaec-42ff-ee03-2ab6ee748538"
      },
      "outputs": [
        {
          "name": "stdout",
          "output_type": "stream",
          "text": [
            "Index(['id', 'radius_mean', 'texture_mean', 'perimeter_mean', 'area_mean',\n",
            "       'smoothness_mean', 'compactness_mean', 'concavity_mean',\n",
            "       'concave points_mean', 'symmetry_mean', 'fractal_dimension_mean',\n",
            "       'radius_se', 'texture_se', 'perimeter_se', 'area_se', 'smoothness_se',\n",
            "       'compactness_se', 'concavity_se', 'concave points_se', 'symmetry_se',\n",
            "       'fractal_dimension_se', 'radius_worst', 'texture_worst',\n",
            "       'perimeter_worst', 'area_worst', 'smoothness_worst',\n",
            "       'compactness_worst', 'concavity_worst', 'concave points_worst',\n",
            "       'symmetry_worst', 'fractal_dimension_worst'],\n",
            "      dtype='object')\n",
            "Jumlah kolom :  31\n"
          ]
        }
      ],
      "source": [
        "print(test_data.columns)\n",
        "print(\"Jumlah kolom : \", len(test_data.columns))"
      ]
    },
    {
      "cell_type": "code",
      "execution_count": 69,
      "metadata": {
        "colab": {
          "base_uri": "https://localhost:8080/"
        },
        "id": "BqV7iesK0fq8",
        "outputId": "7610d21e-5661-4992-b1d2-3dfdcebbaa3b"
      },
      "outputs": [
        {
          "name": "stdout",
          "output_type": "stream",
          "text": [
            "Index(['id', 'diagnosis', 'radius_mean', 'texture_mean', 'perimeter_mean',\n",
            "       'area_mean', 'smoothness_mean', 'compactness_mean', 'concavity_mean',\n",
            "       'concave points_mean', 'symmetry_mean', 'fractal_dimension_mean',\n",
            "       'radius_se', 'texture_se', 'perimeter_se', 'area_se', 'smoothness_se',\n",
            "       'compactness_se', 'concavity_se', 'concave points_se', 'symmetry_se',\n",
            "       'fractal_dimension_se', 'radius_worst', 'texture_worst',\n",
            "       'perimeter_worst', 'area_worst', 'smoothness_worst',\n",
            "       'compactness_worst', 'concavity_worst', 'concave points_worst',\n",
            "       'symmetry_worst', 'fractal_dimension_worst'],\n",
            "      dtype='object')\n",
            "Jumlah kolom :  32\n"
          ]
        }
      ],
      "source": [
        "print(train_data.columns)\n",
        "print(\"Jumlah kolom : \", len(train_data.columns))"
      ]
    },
    {
      "attachments": {},
      "cell_type": "markdown",
      "metadata": {
        "id": "dUV3u3hX15Xv"
      },
      "source": [
        "Terlihat bahwa data test tidak memiliki label 'diagnosis'. Agar model pada percobaan ini dapat di evaluasi, maka train.csv akan di split untuk training dan testing sedangkan test.csv akan dijadikan hasil diagnosis kanker payudara dari percobaan ini."
      ]
    },
    {
      "attachments": {},
      "cell_type": "markdown",
      "metadata": {
        "id": "xC_VOfCNzTV8"
      },
      "source": [
        "Maka dari itu, kolom 'diagnosis' akan dijadikan label pada eksperimen ini. Namun tipe data label diagnosis akan di convert menjadi integer yaitu '0' merepresentasikan 'B' yang menandakan bukan kanker. Sedangkan '1' merepresentasikan 'M' yang menandakan kanker"
      ]
    },
    {
      "cell_type": "code",
      "execution_count": 106,
      "metadata": {
        "id": "qLJoTn9OJERm"
      },
      "outputs": [],
      "source": [
        "train_data['diagnosis'] = train_data['diagnosis'].map({'B': 0, 'M': 1})"
      ]
    },
    {
      "cell_type": "code",
      "execution_count": 107,
      "metadata": {
        "colab": {
          "base_uri": "https://localhost:8080/",
          "height": 317
        },
        "id": "3QVuN-cFKbcy",
        "outputId": "95d63293-042e-44a0-ff5d-38f0536d1f8a"
      },
      "outputs": [
        {
          "data": {
            "text/html": [
              "\n",
              "  <div id=\"df-63f9610e-8548-40d0-9b12-eb866c659970\">\n",
              "    <div class=\"colab-df-container\">\n",
              "      <div>\n",
              "<style scoped>\n",
              "    .dataframe tbody tr th:only-of-type {\n",
              "        vertical-align: middle;\n",
              "    }\n",
              "\n",
              "    .dataframe tbody tr th {\n",
              "        vertical-align: top;\n",
              "    }\n",
              "\n",
              "    .dataframe thead th {\n",
              "        text-align: right;\n",
              "    }\n",
              "</style>\n",
              "<table border=\"1\" class=\"dataframe\">\n",
              "  <thead>\n",
              "    <tr style=\"text-align: right;\">\n",
              "      <th></th>\n",
              "      <th>id</th>\n",
              "      <th>diagnosis</th>\n",
              "      <th>radius_mean</th>\n",
              "      <th>texture_mean</th>\n",
              "      <th>perimeter_mean</th>\n",
              "      <th>area_mean</th>\n",
              "      <th>smoothness_mean</th>\n",
              "      <th>compactness_mean</th>\n",
              "      <th>concavity_mean</th>\n",
              "      <th>concave points_mean</th>\n",
              "      <th>...</th>\n",
              "      <th>radius_worst</th>\n",
              "      <th>texture_worst</th>\n",
              "      <th>perimeter_worst</th>\n",
              "      <th>area_worst</th>\n",
              "      <th>smoothness_worst</th>\n",
              "      <th>compactness_worst</th>\n",
              "      <th>concavity_worst</th>\n",
              "      <th>concave points_worst</th>\n",
              "      <th>symmetry_worst</th>\n",
              "      <th>fractal_dimension_worst</th>\n",
              "    </tr>\n",
              "  </thead>\n",
              "  <tbody>\n",
              "    <tr>\n",
              "      <th>0</th>\n",
              "      <td>842302</td>\n",
              "      <td>1</td>\n",
              "      <td>17.99</td>\n",
              "      <td>10.38</td>\n",
              "      <td>122.80</td>\n",
              "      <td>1001.0</td>\n",
              "      <td>0.11840</td>\n",
              "      <td>0.27760</td>\n",
              "      <td>0.3001</td>\n",
              "      <td>0.14710</td>\n",
              "      <td>...</td>\n",
              "      <td>25.38</td>\n",
              "      <td>17.33</td>\n",
              "      <td>184.60</td>\n",
              "      <td>2019.0</td>\n",
              "      <td>0.1622</td>\n",
              "      <td>0.6656</td>\n",
              "      <td>0.7119</td>\n",
              "      <td>0.2654</td>\n",
              "      <td>0.4601</td>\n",
              "      <td>0.11890</td>\n",
              "    </tr>\n",
              "    <tr>\n",
              "      <th>1</th>\n",
              "      <td>842517</td>\n",
              "      <td>1</td>\n",
              "      <td>20.57</td>\n",
              "      <td>17.77</td>\n",
              "      <td>132.90</td>\n",
              "      <td>1326.0</td>\n",
              "      <td>0.08474</td>\n",
              "      <td>0.07864</td>\n",
              "      <td>0.0869</td>\n",
              "      <td>0.07017</td>\n",
              "      <td>...</td>\n",
              "      <td>24.99</td>\n",
              "      <td>23.41</td>\n",
              "      <td>158.80</td>\n",
              "      <td>1956.0</td>\n",
              "      <td>0.1238</td>\n",
              "      <td>0.1866</td>\n",
              "      <td>0.2416</td>\n",
              "      <td>0.1860</td>\n",
              "      <td>0.2750</td>\n",
              "      <td>0.08902</td>\n",
              "    </tr>\n",
              "    <tr>\n",
              "      <th>2</th>\n",
              "      <td>84300903</td>\n",
              "      <td>1</td>\n",
              "      <td>19.69</td>\n",
              "      <td>21.25</td>\n",
              "      <td>130.00</td>\n",
              "      <td>1203.0</td>\n",
              "      <td>0.10960</td>\n",
              "      <td>0.15990</td>\n",
              "      <td>0.1974</td>\n",
              "      <td>0.12790</td>\n",
              "      <td>...</td>\n",
              "      <td>23.57</td>\n",
              "      <td>25.53</td>\n",
              "      <td>152.50</td>\n",
              "      <td>1709.0</td>\n",
              "      <td>0.1444</td>\n",
              "      <td>0.4245</td>\n",
              "      <td>0.4504</td>\n",
              "      <td>0.2430</td>\n",
              "      <td>0.3613</td>\n",
              "      <td>0.08758</td>\n",
              "    </tr>\n",
              "    <tr>\n",
              "      <th>3</th>\n",
              "      <td>84348301</td>\n",
              "      <td>1</td>\n",
              "      <td>11.42</td>\n",
              "      <td>20.38</td>\n",
              "      <td>77.58</td>\n",
              "      <td>386.1</td>\n",
              "      <td>0.14250</td>\n",
              "      <td>0.28390</td>\n",
              "      <td>0.2414</td>\n",
              "      <td>0.10520</td>\n",
              "      <td>...</td>\n",
              "      <td>14.91</td>\n",
              "      <td>26.50</td>\n",
              "      <td>98.87</td>\n",
              "      <td>567.7</td>\n",
              "      <td>0.2098</td>\n",
              "      <td>0.8663</td>\n",
              "      <td>0.6869</td>\n",
              "      <td>0.2575</td>\n",
              "      <td>0.6638</td>\n",
              "      <td>0.17300</td>\n",
              "    </tr>\n",
              "    <tr>\n",
              "      <th>4</th>\n",
              "      <td>84358402</td>\n",
              "      <td>1</td>\n",
              "      <td>20.29</td>\n",
              "      <td>14.34</td>\n",
              "      <td>135.10</td>\n",
              "      <td>1297.0</td>\n",
              "      <td>0.10030</td>\n",
              "      <td>0.13280</td>\n",
              "      <td>0.1980</td>\n",
              "      <td>0.10430</td>\n",
              "      <td>...</td>\n",
              "      <td>22.54</td>\n",
              "      <td>16.67</td>\n",
              "      <td>152.20</td>\n",
              "      <td>1575.0</td>\n",
              "      <td>0.1374</td>\n",
              "      <td>0.2050</td>\n",
              "      <td>0.4000</td>\n",
              "      <td>0.1625</td>\n",
              "      <td>0.2364</td>\n",
              "      <td>0.07678</td>\n",
              "    </tr>\n",
              "  </tbody>\n",
              "</table>\n",
              "<p>5 rows × 32 columns</p>\n",
              "</div>\n",
              "      <button class=\"colab-df-convert\" onclick=\"convertToInteractive('df-63f9610e-8548-40d0-9b12-eb866c659970')\"\n",
              "              title=\"Convert this dataframe to an interactive table.\"\n",
              "              style=\"display:none;\">\n",
              "        \n",
              "  <svg xmlns=\"http://www.w3.org/2000/svg\" height=\"24px\"viewBox=\"0 0 24 24\"\n",
              "       width=\"24px\">\n",
              "    <path d=\"M0 0h24v24H0V0z\" fill=\"none\"/>\n",
              "    <path d=\"M18.56 5.44l.94 2.06.94-2.06 2.06-.94-2.06-.94-.94-2.06-.94 2.06-2.06.94zm-11 1L8.5 8.5l.94-2.06 2.06-.94-2.06-.94L8.5 2.5l-.94 2.06-2.06.94zm10 10l.94 2.06.94-2.06 2.06-.94-2.06-.94-.94-2.06-.94 2.06-2.06.94z\"/><path d=\"M17.41 7.96l-1.37-1.37c-.4-.4-.92-.59-1.43-.59-.52 0-1.04.2-1.43.59L10.3 9.45l-7.72 7.72c-.78.78-.78 2.05 0 2.83L4 21.41c.39.39.9.59 1.41.59.51 0 1.02-.2 1.41-.59l7.78-7.78 2.81-2.81c.8-.78.8-2.07 0-2.86zM5.41 20L4 18.59l7.72-7.72 1.47 1.35L5.41 20z\"/>\n",
              "  </svg>\n",
              "      </button>\n",
              "      \n",
              "  <style>\n",
              "    .colab-df-container {\n",
              "      display:flex;\n",
              "      flex-wrap:wrap;\n",
              "      gap: 12px;\n",
              "    }\n",
              "\n",
              "    .colab-df-convert {\n",
              "      background-color: #E8F0FE;\n",
              "      border: none;\n",
              "      border-radius: 50%;\n",
              "      cursor: pointer;\n",
              "      display: none;\n",
              "      fill: #1967D2;\n",
              "      height: 32px;\n",
              "      padding: 0 0 0 0;\n",
              "      width: 32px;\n",
              "    }\n",
              "\n",
              "    .colab-df-convert:hover {\n",
              "      background-color: #E2EBFA;\n",
              "      box-shadow: 0px 1px 2px rgba(60, 64, 67, 0.3), 0px 1px 3px 1px rgba(60, 64, 67, 0.15);\n",
              "      fill: #174EA6;\n",
              "    }\n",
              "\n",
              "    [theme=dark] .colab-df-convert {\n",
              "      background-color: #3B4455;\n",
              "      fill: #D2E3FC;\n",
              "    }\n",
              "\n",
              "    [theme=dark] .colab-df-convert:hover {\n",
              "      background-color: #434B5C;\n",
              "      box-shadow: 0px 1px 3px 1px rgba(0, 0, 0, 0.15);\n",
              "      filter: drop-shadow(0px 1px 2px rgba(0, 0, 0, 0.3));\n",
              "      fill: #FFFFFF;\n",
              "    }\n",
              "  </style>\n",
              "\n",
              "      <script>\n",
              "        const buttonEl =\n",
              "          document.querySelector('#df-63f9610e-8548-40d0-9b12-eb866c659970 button.colab-df-convert');\n",
              "        buttonEl.style.display =\n",
              "          google.colab.kernel.accessAllowed ? 'block' : 'none';\n",
              "\n",
              "        async function convertToInteractive(key) {\n",
              "          const element = document.querySelector('#df-63f9610e-8548-40d0-9b12-eb866c659970');\n",
              "          const dataTable =\n",
              "            await google.colab.kernel.invokeFunction('convertToInteractive',\n",
              "                                                     [key], {});\n",
              "          if (!dataTable) return;\n",
              "\n",
              "          const docLinkHtml = 'Like what you see? Visit the ' +\n",
              "            '<a target=\"_blank\" href=https://colab.research.google.com/notebooks/data_table.ipynb>data table notebook</a>'\n",
              "            + ' to learn more about interactive tables.';\n",
              "          element.innerHTML = '';\n",
              "          dataTable['output_type'] = 'display_data';\n",
              "          await google.colab.output.renderOutput(dataTable, element);\n",
              "          const docLink = document.createElement('div');\n",
              "          docLink.innerHTML = docLinkHtml;\n",
              "          element.appendChild(docLink);\n",
              "        }\n",
              "      </script>\n",
              "    </div>\n",
              "  </div>\n",
              "  "
            ],
            "text/plain": [
              "         id  diagnosis  radius_mean  texture_mean  perimeter_mean  area_mean  \\\n",
              "0    842302          1        17.99         10.38          122.80     1001.0   \n",
              "1    842517          1        20.57         17.77          132.90     1326.0   \n",
              "2  84300903          1        19.69         21.25          130.00     1203.0   \n",
              "3  84348301          1        11.42         20.38           77.58      386.1   \n",
              "4  84358402          1        20.29         14.34          135.10     1297.0   \n",
              "\n",
              "   smoothness_mean  compactness_mean  concavity_mean  concave points_mean  \\\n",
              "0          0.11840           0.27760          0.3001              0.14710   \n",
              "1          0.08474           0.07864          0.0869              0.07017   \n",
              "2          0.10960           0.15990          0.1974              0.12790   \n",
              "3          0.14250           0.28390          0.2414              0.10520   \n",
              "4          0.10030           0.13280          0.1980              0.10430   \n",
              "\n",
              "   ...  radius_worst  texture_worst  perimeter_worst  area_worst  \\\n",
              "0  ...         25.38          17.33           184.60      2019.0   \n",
              "1  ...         24.99          23.41           158.80      1956.0   \n",
              "2  ...         23.57          25.53           152.50      1709.0   \n",
              "3  ...         14.91          26.50            98.87       567.7   \n",
              "4  ...         22.54          16.67           152.20      1575.0   \n",
              "\n",
              "   smoothness_worst  compactness_worst  concavity_worst  concave points_worst  \\\n",
              "0            0.1622             0.6656           0.7119                0.2654   \n",
              "1            0.1238             0.1866           0.2416                0.1860   \n",
              "2            0.1444             0.4245           0.4504                0.2430   \n",
              "3            0.2098             0.8663           0.6869                0.2575   \n",
              "4            0.1374             0.2050           0.4000                0.1625   \n",
              "\n",
              "   symmetry_worst  fractal_dimension_worst  \n",
              "0          0.4601                  0.11890  \n",
              "1          0.2750                  0.08902  \n",
              "2          0.3613                  0.08758  \n",
              "3          0.6638                  0.17300  \n",
              "4          0.2364                  0.07678  \n",
              "\n",
              "[5 rows x 32 columns]"
            ]
          },
          "execution_count": 107,
          "metadata": {},
          "output_type": "execute_result"
        }
      ],
      "source": [
        "train_data.head()"
      ]
    },
    {
      "cell_type": "code",
      "execution_count": 108,
      "metadata": {
        "id": "xmam1nRI0EsT"
      },
      "outputs": [],
      "source": [
        "#Definisikan fitur dan label\n",
        "features = train_data[['radius_mean', 'texture_mean', 'perimeter_mean',\n",
        "       'area_mean', 'smoothness_mean', 'compactness_mean', 'concavity_mean',\n",
        "       'concave points_mean', 'symmetry_mean', 'fractal_dimension_mean',\n",
        "       'radius_se', 'texture_se', 'perimeter_se', 'area_se', 'smoothness_se',\n",
        "       'compactness_se', 'concavity_se', 'concave points_se', 'symmetry_se',\n",
        "       'fractal_dimension_se', 'radius_worst', 'texture_worst',\n",
        "       'perimeter_worst', 'area_worst', 'smoothness_worst',\n",
        "       'compactness_worst', 'concavity_worst', 'concave points_worst',\n",
        "       'symmetry_worst', 'fractal_dimension_worst']]\n",
        "label = train_data[['diagnosis']]"
      ]
    },
    {
      "cell_type": "code",
      "execution_count": 109,
      "metadata": {
        "id": "HkLrncMC47GO"
      },
      "outputs": [],
      "source": [
        "#Split training dan testing\n",
        "x_train, x_test, y_train, y_test = train_test_split(features, label, test_size = 0.2)"
      ]
    },
    {
      "attachments": {},
      "cell_type": "markdown",
      "metadata": {
        "id": "WxvNhpYy6JNy"
      },
      "source": [
        "#TPOT Classifier"
      ]
    },
    {
      "attachments": {},
      "cell_type": "markdown",
      "metadata": {
        "id": "vRvIgcMb6Qgc"
      },
      "source": [
        "Percobaan ini akan menggunakan tools TPOT yaitu Auto Machine Learning tools yang berbasis Genetic Programming."
      ]
    },
    {
      "attachments": {},
      "cell_type": "markdown",
      "metadata": {
        "id": "1UdPU-Mr7Njk"
      },
      "source": [
        "Genetic programming termasuk bagian dari Evolutionary Algorithm yaitu algoritma yang terinspirasi dari mekanisme keturunan biologis yang mempunyai mekanisme seperti mutation, crossover, natural selection dan survial."
      ]
    },
    {
      "attachments": {},
      "cell_type": "markdown",
      "metadata": {
        "id": "qoYB31Jp7_T_"
      },
      "source": [
        "TPOT akan secara otomatis menentukan model, hyperparameter, dan features yang paling cocok untuk suatu permasalahan Machine Learning"
      ]
    },
    {
      "attachments": {},
      "cell_type": "markdown",
      "metadata": {
        "id": "F2lZwICd9YLC"
      },
      "source": [
        "##Inisialisasi TPOT"
      ]
    },
    {
      "cell_type": "code",
      "execution_count": 77,
      "metadata": {
        "id": "JY3AH7rx8Bv6"
      },
      "outputs": [],
      "source": [
        "from tpot.tpot import TPOTClassifier\n",
        "#Percobaan ini akan mencoba 5 generasi untuk mencari nilai optimasi Model ML yang optimal\n",
        "tpot = TPOTClassifier(generations = 5, verbosity = 2)\n"
      ]
    },
    {
      "attachments": {},
      "cell_type": "markdown",
      "metadata": {
        "id": "2UU82Zoc9cUQ"
      },
      "source": [
        "##Fit Data"
      ]
    },
    {
      "cell_type": "code",
      "execution_count": 78,
      "metadata": {
        "colab": {
          "base_uri": "https://localhost:8080/",
          "height": 338,
          "referenced_widgets": [
            "b40290ca2e334e16a62b715157ee893f",
            "6cb6618073a94b08a92cb7a0e0b9332c",
            "572ae546e10e4b9ba7cfa03e7344191d",
            "1dfa185997224fa3be4ff0d07de3842f",
            "c3858393748549b3b96ef05d629d636a",
            "a0bd8fe7b32d4bf49838a3c8ebdad3f7",
            "de0c12c6d24c4888bed8080e68458590",
            "21f5ea7237a9486da0b6a56f432ef518",
            "203a163b94e24380a0fa2d0a73475c94",
            "3d82e58643ff4229b6036c9036eafd32",
            "643b9a865002427f961fe30fdf82431e"
          ]
        },
        "id": "-GJGDgku8sXR",
        "outputId": "7f780269-9e6c-4b4f-bcd3-c21d60f83864"
      },
      "outputs": [
        {
          "name": "stderr",
          "output_type": "stream",
          "text": [
            "/usr/local/lib/python3.10/dist-packages/sklearn/utils/validation.py:1143: DataConversionWarning: A column-vector y was passed when a 1d array was expected. Please change the shape of y to (n_samples, ), for example using ravel().\n",
            "  y = column_or_1d(y, warn=True)\n"
          ]
        },
        {
          "data": {
            "application/vnd.jupyter.widget-view+json": {
              "model_id": "b40290ca2e334e16a62b715157ee893f",
              "version_major": 2,
              "version_minor": 0
            },
            "text/plain": [
              "Optimization Progress:   0%|          | 0/600 [00:00<?, ?pipeline/s]"
            ]
          },
          "metadata": {},
          "output_type": "display_data"
        },
        {
          "name": "stdout",
          "output_type": "stream",
          "text": [
            "\n",
            "Generation 1 - Current best internal CV score: 0.9702702702702704\n",
            "\n",
            "Generation 2 - Current best internal CV score: 0.9783783783783784\n",
            "\n",
            "Generation 3 - Current best internal CV score: 0.9783783783783784\n",
            "\n",
            "Generation 4 - Current best internal CV score: 0.9783783783783784\n",
            "\n",
            "Generation 5 - Current best internal CV score: 0.9783783783783784\n",
            "\n",
            "Best pipeline: GradientBoostingClassifier(PolynomialFeatures(input_matrix, degree=2, include_bias=False, interaction_only=False), learning_rate=1.0, max_depth=3, max_features=0.25, min_samples_leaf=13, min_samples_split=5, n_estimators=100, subsample=0.9500000000000001)\n"
          ]
        },
        {
          "data": {
            "text/html": [
              "<style>#sk-container-id-3 {color: black;background-color: white;}#sk-container-id-3 pre{padding: 0;}#sk-container-id-3 div.sk-toggleable {background-color: white;}#sk-container-id-3 label.sk-toggleable__label {cursor: pointer;display: block;width: 100%;margin-bottom: 0;padding: 0.3em;box-sizing: border-box;text-align: center;}#sk-container-id-3 label.sk-toggleable__label-arrow:before {content: \"▸\";float: left;margin-right: 0.25em;color: #696969;}#sk-container-id-3 label.sk-toggleable__label-arrow:hover:before {color: black;}#sk-container-id-3 div.sk-estimator:hover label.sk-toggleable__label-arrow:before {color: black;}#sk-container-id-3 div.sk-toggleable__content {max-height: 0;max-width: 0;overflow: hidden;text-align: left;background-color: #f0f8ff;}#sk-container-id-3 div.sk-toggleable__content pre {margin: 0.2em;color: black;border-radius: 0.25em;background-color: #f0f8ff;}#sk-container-id-3 input.sk-toggleable__control:checked~div.sk-toggleable__content {max-height: 200px;max-width: 100%;overflow: auto;}#sk-container-id-3 input.sk-toggleable__control:checked~label.sk-toggleable__label-arrow:before {content: \"▾\";}#sk-container-id-3 div.sk-estimator input.sk-toggleable__control:checked~label.sk-toggleable__label {background-color: #d4ebff;}#sk-container-id-3 div.sk-label input.sk-toggleable__control:checked~label.sk-toggleable__label {background-color: #d4ebff;}#sk-container-id-3 input.sk-hidden--visually {border: 0;clip: rect(1px 1px 1px 1px);clip: rect(1px, 1px, 1px, 1px);height: 1px;margin: -1px;overflow: hidden;padding: 0;position: absolute;width: 1px;}#sk-container-id-3 div.sk-estimator {font-family: monospace;background-color: #f0f8ff;border: 1px dotted black;border-radius: 0.25em;box-sizing: border-box;margin-bottom: 0.5em;}#sk-container-id-3 div.sk-estimator:hover {background-color: #d4ebff;}#sk-container-id-3 div.sk-parallel-item::after {content: \"\";width: 100%;border-bottom: 1px solid gray;flex-grow: 1;}#sk-container-id-3 div.sk-label:hover label.sk-toggleable__label {background-color: #d4ebff;}#sk-container-id-3 div.sk-serial::before {content: \"\";position: absolute;border-left: 1px solid gray;box-sizing: border-box;top: 0;bottom: 0;left: 50%;z-index: 0;}#sk-container-id-3 div.sk-serial {display: flex;flex-direction: column;align-items: center;background-color: white;padding-right: 0.2em;padding-left: 0.2em;position: relative;}#sk-container-id-3 div.sk-item {position: relative;z-index: 1;}#sk-container-id-3 div.sk-parallel {display: flex;align-items: stretch;justify-content: center;background-color: white;position: relative;}#sk-container-id-3 div.sk-item::before, #sk-container-id-3 div.sk-parallel-item::before {content: \"\";position: absolute;border-left: 1px solid gray;box-sizing: border-box;top: 0;bottom: 0;left: 50%;z-index: -1;}#sk-container-id-3 div.sk-parallel-item {display: flex;flex-direction: column;z-index: 1;position: relative;background-color: white;}#sk-container-id-3 div.sk-parallel-item:first-child::after {align-self: flex-end;width: 50%;}#sk-container-id-3 div.sk-parallel-item:last-child::after {align-self: flex-start;width: 50%;}#sk-container-id-3 div.sk-parallel-item:only-child::after {width: 0;}#sk-container-id-3 div.sk-dashed-wrapped {border: 1px dashed gray;margin: 0 0.4em 0.5em 0.4em;box-sizing: border-box;padding-bottom: 0.4em;background-color: white;}#sk-container-id-3 div.sk-label label {font-family: monospace;font-weight: bold;display: inline-block;line-height: 1.2em;}#sk-container-id-3 div.sk-label-container {text-align: center;}#sk-container-id-3 div.sk-container {/* jupyter's `normalize.less` sets `[hidden] { display: none; }` but bootstrap.min.css set `[hidden] { display: none !important; }` so we also need the `!important` here to be able to override the default hidden behavior on the sphinx rendered scikit-learn.org. See: https://github.com/scikit-learn/scikit-learn/issues/21755 */display: inline-block !important;position: relative;}#sk-container-id-3 div.sk-text-repr-fallback {display: none;}</style><div id=\"sk-container-id-3\" class=\"sk-top-container\"><div class=\"sk-text-repr-fallback\"><pre>TPOTClassifier(generations=5, verbosity=2)</pre><b>In a Jupyter environment, please rerun this cell to show the HTML representation or trust the notebook. <br />On GitHub, the HTML representation is unable to render, please try loading this page with nbviewer.org.</b></div><div class=\"sk-container\" hidden><div class=\"sk-item\"><div class=\"sk-estimator sk-toggleable\"><input class=\"sk-toggleable__control sk-hidden--visually\" id=\"sk-estimator-id-3\" type=\"checkbox\" checked><label for=\"sk-estimator-id-3\" class=\"sk-toggleable__label sk-toggleable__label-arrow\">TPOTClassifier</label><div class=\"sk-toggleable__content\"><pre>TPOTClassifier(generations=5, verbosity=2)</pre></div></div></div></div></div>"
            ],
            "text/plain": [
              "TPOTClassifier(generations=5, verbosity=2)"
            ]
          },
          "execution_count": 78,
          "metadata": {},
          "output_type": "execute_result"
        }
      ],
      "source": [
        "#Fit data\n",
        "tpot.fit(x_train, y_train)"
      ]
    },
    {
      "attachments": {},
      "cell_type": "markdown",
      "metadata": {
        "id": "YM4BxvAj9gDG"
      },
      "source": [
        "##Evaluasi"
      ]
    },
    {
      "cell_type": "code",
      "execution_count": 111,
      "metadata": {
        "colab": {
          "base_uri": "https://localhost:8080/"
        },
        "id": "JtZ_B9-29QYM",
        "outputId": "16ac4c88-0837-482e-cf49-3548f5bbaa5b"
      },
      "outputs": [
        {
          "name": "stderr",
          "output_type": "stream",
          "text": [
            "/usr/local/lib/python3.10/dist-packages/sklearn/utils/validation.py:1143: DataConversionWarning: A column-vector y was passed when a 1d array was expected. Please change the shape of y to (n_samples, ), for example using ravel().\n",
            "  y = column_or_1d(y, warn=True)\n"
          ]
        },
        {
          "data": {
            "text/plain": [
              "0.978494623655914"
            ]
          },
          "execution_count": 111,
          "metadata": {},
          "output_type": "execute_result"
        }
      ],
      "source": [
        "#Hasil evaluasi model\n",
        "tpot.score(x_test, y_test)"
      ]
    },
    {
      "attachments": {},
      "cell_type": "markdown",
      "metadata": {
        "id": "2HE77Nn99kNp"
      },
      "source": [
        "#Klasifikasi kanker payudara dari Dataset Breast Cancer Wisconsin "
      ]
    },
    {
      "attachments": {},
      "cell_type": "markdown",
      "metadata": {
        "id": "6jmpeS2uRx1d"
      },
      "source": [
        "Dilakukan hasil dari prediksi menggunakan model tpot yang telah fit. Output dari prediksi ini akan langsung menghasilkan file .csv yang berisi prediksi kanker payudra berdasarkan file test.csv"
      ]
    },
    {
      "cell_type": "code",
      "execution_count": 112,
      "metadata": {
        "id": "NqKYvU7rPL3N"
      },
      "outputs": [],
      "source": [
        "test_data = test_data.drop('id', axis=1)"
      ]
    },
    {
      "cell_type": "code",
      "execution_count": 113,
      "metadata": {
        "id": "HqhNdlYdN1R2"
      },
      "outputs": [],
      "source": [
        "predictions = tpot.predict(test_data)\n"
      ]
    },
    {
      "cell_type": "code",
      "execution_count": 116,
      "metadata": {
        "id": "_JIZSR9MO2Pb"
      },
      "outputs": [],
      "source": [
        "test_data['Diagnosis Predictions'] = predictions\n",
        "test_data['Diagnosis Predictions'] = test_data['Diagnosis Predictions'].map({0: \"Benign\", 1: \"Malignant\"})\n",
        "test_data.to_csv('Diagnosis_Prediction.csv', index=False)"
      ]
    },
    {
      "attachments": {},
      "cell_type": "markdown",
      "metadata": {
        "id": "WPhVlNCmSDWE"
      },
      "source": [
        "Hasil prediksi :\n",
        "![Screenshot 2023-05-28 143634.png](data:image/png;base64,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)"
      ]
    },
    {
      "attachments": {},
      "cell_type": "markdown",
      "metadata": {
        "id": "UMKsgB6PSd3x"
      },
      "source": [
        "Kolom \"Diagnosis Prediction\" merupakan hasil prediksi deteksi kanker payudara."
      ]
    }
  ],
  "metadata": {
    "colab": {
      "provenance": []
    },
    "kernelspec": {
      "display_name": "Python 3",
      "name": "python3"
    },
    "language_info": {
      "name": "python"
    },
    "widgets": {
      "application/vnd.jupyter.widget-state+json": {
        "1dfa185997224fa3be4ff0d07de3842f": {
          "model_module": "@jupyter-widgets/controls",
          "model_module_version": "1.5.0",
          "model_name": "HTMLModel",
          "state": {
            "_dom_classes": [],
            "_model_module": "@jupyter-widgets/controls",
            "_model_module_version": "1.5.0",
            "_model_name": "HTMLModel",
            "_view_count": null,
            "_view_module": "@jupyter-widgets/controls",
            "_view_module_version": "1.5.0",
            "_view_name": "HTMLView",
            "description": "",
            "description_tooltip": null,
            "layout": "IPY_MODEL_3d82e58643ff4229b6036c9036eafd32",
            "placeholder": "​",
            "style": "IPY_MODEL_643b9a865002427f961fe30fdf82431e",
            "value": " 600/600 [12:53&lt;00:00,  1.23s/pipeline]"
          }
        },
        "203a163b94e24380a0fa2d0a73475c94": {
          "model_module": "@jupyter-widgets/controls",
          "model_module_version": "1.5.0",
          "model_name": "ProgressStyleModel",
          "state": {
            "_model_module": "@jupyter-widgets/controls",
            "_model_module_version": "1.5.0",
            "_model_name": "ProgressStyleModel",
            "_view_count": null,
            "_view_module": "@jupyter-widgets/base",
            "_view_module_version": "1.2.0",
            "_view_name": "StyleView",
            "bar_color": null,
            "description_width": ""
          }
        },
        "21f5ea7237a9486da0b6a56f432ef518": {
          "model_module": "@jupyter-widgets/base",
          "model_module_version": "1.2.0",
          "model_name": "LayoutModel",
          "state": {
            "_model_module": "@jupyter-widgets/base",
            "_model_module_version": "1.2.0",
            "_model_name": "LayoutModel",
            "_view_count": null,
            "_view_module": "@jupyter-widgets/base",
            "_view_module_version": "1.2.0",
            "_view_name": "LayoutView",
            "align_content": null,
            "align_items": null,
            "align_self": null,
            "border": null,
            "bottom": null,
            "display": null,
            "flex": null,
            "flex_flow": null,
            "grid_area": null,
            "grid_auto_columns": null,
            "grid_auto_flow": null,
            "grid_auto_rows": null,
            "grid_column": null,
            "grid_gap": null,
            "grid_row": null,
            "grid_template_areas": null,
            "grid_template_columns": null,
            "grid_template_rows": null,
            "height": null,
            "justify_content": null,
            "justify_items": null,
            "left": null,
            "margin": null,
            "max_height": null,
            "max_width": null,
            "min_height": null,
            "min_width": null,
            "object_fit": null,
            "object_position": null,
            "order": null,
            "overflow": null,
            "overflow_x": null,
            "overflow_y": null,
            "padding": null,
            "right": null,
            "top": null,
            "visibility": null,
            "width": null
          }
        },
        "3d82e58643ff4229b6036c9036eafd32": {
          "model_module": "@jupyter-widgets/base",
          "model_module_version": "1.2.0",
          "model_name": "LayoutModel",
          "state": {
            "_model_module": "@jupyter-widgets/base",
            "_model_module_version": "1.2.0",
            "_model_name": "LayoutModel",
            "_view_count": null,
            "_view_module": "@jupyter-widgets/base",
            "_view_module_version": "1.2.0",
            "_view_name": "LayoutView",
            "align_content": null,
            "align_items": null,
            "align_self": null,
            "border": null,
            "bottom": null,
            "display": null,
            "flex": null,
            "flex_flow": null,
            "grid_area": null,
            "grid_auto_columns": null,
            "grid_auto_flow": null,
            "grid_auto_rows": null,
            "grid_column": null,
            "grid_gap": null,
            "grid_row": null,
            "grid_template_areas": null,
            "grid_template_columns": null,
            "grid_template_rows": null,
            "height": null,
            "justify_content": null,
            "justify_items": null,
            "left": null,
            "margin": null,
            "max_height": null,
            "max_width": null,
            "min_height": null,
            "min_width": null,
            "object_fit": null,
            "object_position": null,
            "order": null,
            "overflow": null,
            "overflow_x": null,
            "overflow_y": null,
            "padding": null,
            "right": null,
            "top": null,
            "visibility": null,
            "width": null
          }
        },
        "572ae546e10e4b9ba7cfa03e7344191d": {
          "model_module": "@jupyter-widgets/controls",
          "model_module_version": "1.5.0",
          "model_name": "FloatProgressModel",
          "state": {
            "_dom_classes": [],
            "_model_module": "@jupyter-widgets/controls",
            "_model_module_version": "1.5.0",
            "_model_name": "FloatProgressModel",
            "_view_count": null,
            "_view_module": "@jupyter-widgets/controls",
            "_view_module_version": "1.5.0",
            "_view_name": "ProgressView",
            "bar_style": "",
            "description": "",
            "description_tooltip": null,
            "layout": "IPY_MODEL_21f5ea7237a9486da0b6a56f432ef518",
            "max": 600,
            "min": 0,
            "orientation": "horizontal",
            "style": "IPY_MODEL_203a163b94e24380a0fa2d0a73475c94",
            "value": 600
          }
        },
        "643b9a865002427f961fe30fdf82431e": {
          "model_module": "@jupyter-widgets/controls",
          "model_module_version": "1.5.0",
          "model_name": "DescriptionStyleModel",
          "state": {
            "_model_module": "@jupyter-widgets/controls",
            "_model_module_version": "1.5.0",
            "_model_name": "DescriptionStyleModel",
            "_view_count": null,
            "_view_module": "@jupyter-widgets/base",
            "_view_module_version": "1.2.0",
            "_view_name": "StyleView",
            "description_width": ""
          }
        },
        "6cb6618073a94b08a92cb7a0e0b9332c": {
          "model_module": "@jupyter-widgets/controls",
          "model_module_version": "1.5.0",
          "model_name": "HTMLModel",
          "state": {
            "_dom_classes": [],
            "_model_module": "@jupyter-widgets/controls",
            "_model_module_version": "1.5.0",
            "_model_name": "HTMLModel",
            "_view_count": null,
            "_view_module": "@jupyter-widgets/controls",
            "_view_module_version": "1.5.0",
            "_view_name": "HTMLView",
            "description": "",
            "description_tooltip": null,
            "layout": "IPY_MODEL_a0bd8fe7b32d4bf49838a3c8ebdad3f7",
            "placeholder": "​",
            "style": "IPY_MODEL_de0c12c6d24c4888bed8080e68458590",
            "value": "Optimization Progress: 100%"
          }
        },
        "a0bd8fe7b32d4bf49838a3c8ebdad3f7": {
          "model_module": "@jupyter-widgets/base",
          "model_module_version": "1.2.0",
          "model_name": "LayoutModel",
          "state": {
            "_model_module": "@jupyter-widgets/base",
            "_model_module_version": "1.2.0",
            "_model_name": "LayoutModel",
            "_view_count": null,
            "_view_module": "@jupyter-widgets/base",
            "_view_module_version": "1.2.0",
            "_view_name": "LayoutView",
            "align_content": null,
            "align_items": null,
            "align_self": null,
            "border": null,
            "bottom": null,
            "display": null,
            "flex": null,
            "flex_flow": null,
            "grid_area": null,
            "grid_auto_columns": null,
            "grid_auto_flow": null,
            "grid_auto_rows": null,
            "grid_column": null,
            "grid_gap": null,
            "grid_row": null,
            "grid_template_areas": null,
            "grid_template_columns": null,
            "grid_template_rows": null,
            "height": null,
            "justify_content": null,
            "justify_items": null,
            "left": null,
            "margin": null,
            "max_height": null,
            "max_width": null,
            "min_height": null,
            "min_width": null,
            "object_fit": null,
            "object_position": null,
            "order": null,
            "overflow": null,
            "overflow_x": null,
            "overflow_y": null,
            "padding": null,
            "right": null,
            "top": null,
            "visibility": null,
            "width": null
          }
        },
        "b40290ca2e334e16a62b715157ee893f": {
          "model_module": "@jupyter-widgets/controls",
          "model_module_version": "1.5.0",
          "model_name": "HBoxModel",
          "state": {
            "_dom_classes": [],
            "_model_module": "@jupyter-widgets/controls",
            "_model_module_version": "1.5.0",
            "_model_name": "HBoxModel",
            "_view_count": null,
            "_view_module": "@jupyter-widgets/controls",
            "_view_module_version": "1.5.0",
            "_view_name": "HBoxView",
            "box_style": "",
            "children": [
              "IPY_MODEL_6cb6618073a94b08a92cb7a0e0b9332c",
              "IPY_MODEL_572ae546e10e4b9ba7cfa03e7344191d",
              "IPY_MODEL_1dfa185997224fa3be4ff0d07de3842f"
            ],
            "layout": "IPY_MODEL_c3858393748549b3b96ef05d629d636a"
          }
        },
        "c3858393748549b3b96ef05d629d636a": {
          "model_module": "@jupyter-widgets/base",
          "model_module_version": "1.2.0",
          "model_name": "LayoutModel",
          "state": {
            "_model_module": "@jupyter-widgets/base",
            "_model_module_version": "1.2.0",
            "_model_name": "LayoutModel",
            "_view_count": null,
            "_view_module": "@jupyter-widgets/base",
            "_view_module_version": "1.2.0",
            "_view_name": "LayoutView",
            "align_content": null,
            "align_items": null,
            "align_self": null,
            "border": null,
            "bottom": null,
            "display": null,
            "flex": null,
            "flex_flow": null,
            "grid_area": null,
            "grid_auto_columns": null,
            "grid_auto_flow": null,
            "grid_auto_rows": null,
            "grid_column": null,
            "grid_gap": null,
            "grid_row": null,
            "grid_template_areas": null,
            "grid_template_columns": null,
            "grid_template_rows": null,
            "height": null,
            "justify_content": null,
            "justify_items": null,
            "left": null,
            "margin": null,
            "max_height": null,
            "max_width": null,
            "min_height": null,
            "min_width": null,
            "object_fit": null,
            "object_position": null,
            "order": null,
            "overflow": null,
            "overflow_x": null,
            "overflow_y": null,
            "padding": null,
            "right": null,
            "top": null,
            "visibility": "hidden",
            "width": null
          }
        },
        "de0c12c6d24c4888bed8080e68458590": {
          "model_module": "@jupyter-widgets/controls",
          "model_module_version": "1.5.0",
          "model_name": "DescriptionStyleModel",
          "state": {
            "_model_module": "@jupyter-widgets/controls",
            "_model_module_version": "1.5.0",
            "_model_name": "DescriptionStyleModel",
            "_view_count": null,
            "_view_module": "@jupyter-widgets/base",
            "_view_module_version": "1.2.0",
            "_view_name": "StyleView",
            "description_width": ""
          }
        }
      }
    }
  },
  "nbformat": 4,
  "nbformat_minor": 0
}
